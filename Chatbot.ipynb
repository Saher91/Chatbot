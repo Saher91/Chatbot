{
 "cells": [
  {
   "cell_type": "markdown",
   "id": "fc332cc4",
   "metadata": {},
   "source": [
    "# ChatBot"
   ]
  },
  {
   "cell_type": "markdown",
   "id": "35ee5855",
   "metadata": {},
   "source": [
    "## First Task Sync Intern"
   ]
  },
  {
   "cell_type": "markdown",
   "id": "25e4f79c",
   "metadata": {},
   "source": [
    "## Saher Mohamed Abdelaziz"
   ]
  },
  {
   "cell_type": "markdown",
   "id": "fc44fe99",
   "metadata": {},
   "source": [
    "#### Import important library\n"
   ]
  },
  {
   "cell_type": "code",
   "execution_count": 1,
   "id": "a2c724a6",
   "metadata": {},
   "outputs": [],
   "source": [
    "import numpy as np\n",
    "from sklearn.feature_extraction.text import TfidfVectorizer\n",
    "from sklearn.metrics.pairwise import cosine_similarity\n",
    "import nltk\n",
    "import string\n",
    "from nltk.stem import WordNetLemmatizer\n",
    "from nltk.chat.util import Chat, reflections\n",
    "import pyjokes\n",
    "\n",
    "from datetime import datetime"
   ]
  },
  {
   "cell_type": "markdown",
   "id": "6c70df99",
   "metadata": {},
   "source": [
    "#### Function to get Time"
   ]
  },
  {
   "cell_type": "code",
   "execution_count": 2,
   "id": "91b1a025",
   "metadata": {},
   "outputs": [],
   "source": [
    "def get_time():\n",
    "    now = datetime.now()\n",
    "    return now.strftime(\"%H:%M:%S\")"
   ]
  },
  {
   "cell_type": "code",
   "execution_count": null,
   "id": "a5f962c1",
   "metadata": {},
   "outputs": [
    {
     "name": "stdout",
     "output_type": "stream",
     "text": [
      ">hi\n",
      "Hi there!\n",
      ">how are you\n",
      "I am fine, thanks for asking.\n",
      ">what is the time now ?\n",
      "13:45:58\n",
      ">tell me a joke\n",
      "There are two ways to write error-free programs; only the third one works.\n",
      ">another joke\n",
      "I had a problem so I thought I'd use Java. Now I have a ProblemFactory.\n",
      ">bye\n",
      "See you later.\n"
     ]
    }
   ],
   "source": [
    "\n",
    "\n",
    "pairs = [\n",
    "    ['hi', ['Hello!', 'Hi there!', 'Hey!']],\n",
    "    ['how are you', ['I am doing well, thank you!', 'I am fine, thanks for asking.']],\n",
    "    ['what is your name', ['My name is Chatbot.']],\n",
    "    ['bye', ['Goodbye!', 'See you later.']],\n",
    "    ['tell me a joke', [pyjokes.get_joke(language=\"en\", category=\"neutral\")]],\n",
    "    ['another joke', [pyjokes.get_joke(language=\"en\", category=\"neutral\")]],\n",
    "    ['what is the time', [get_time()]],\n",
    "    ['(.*)', ['I am sorry, but I do not understand.']],\n",
    "]\n",
    "def chatbot_response(user_input):\n",
    "    sent_tokens.append(user_input)\n",
    "    TfidfVec = TfidfVectorizer(tokenizer=LemNormalize, stop_words='english')\n",
    "    tfidf = TfidfVec.fit_transform(sent_tokens)\n",
    "    vals = cosine_similarity(tfidf[-1], tfidf)\n",
    "    idx = vals.argsort()[0][-2]\n",
    "    flat = vals.flatten()\n",
    "    flat.sort()\n",
    "    req_tfidf = flat[-2]\n",
    "    response = ''\n",
    "    if(req_tfidf == 0):\n",
    "        response = response + \"I am sorry, but I do not understand.\"\n",
    "    else:\n",
    "        response = response + sent_tokens[idx]\n",
    "    return response\n",
    "\n",
    "def LemTokens(tokens):\n",
    "    lemmer = nltk.stem.WordNetLemmatizer()\n",
    "    return [lemmer.lemmatize(token) for token in tokens]\n",
    "\n",
    "def LemNormalize(text):\n",
    "    remove_punct_dict = dict((ord(punct), None) for punct in string.punctuation)\n",
    "    return LemTokens(nltk.word_tokenize(text.lower().translate(remove_punct_dict)))\n",
    "\n",
    "chatbot = Chat(pairs, reflections)\n",
    "sent_tokens = []\n",
    "chatbot.converse()"
   ]
  },
  {
   "cell_type": "code",
   "execution_count": null,
   "id": "a72a08c6",
   "metadata": {},
   "outputs": [],
   "source": []
  }
 ],
 "metadata": {
  "kernelspec": {
   "display_name": "Python 3 (ipykernel)",
   "language": "python",
   "name": "python3"
  },
  "language_info": {
   "codemirror_mode": {
    "name": "ipython",
    "version": 3
   },
   "file_extension": ".py",
   "mimetype": "text/x-python",
   "name": "python",
   "nbconvert_exporter": "python",
   "pygments_lexer": "ipython3",
   "version": "3.9.12"
  }
 },
 "nbformat": 4,
 "nbformat_minor": 5
}
